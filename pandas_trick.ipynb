{
 "cells": [
  {
   "cell_type": "markdown",
   "metadata": {},
   "source": [
    "### 10 Python Pandas tricks to make data analysis more enjoyable\n",
    "\n",
    "출처  \n",
    "https://towardsdatascience.com/10-python-pandas-tricks-to-make-data-analysis-more-enjoyable-cb8f55af8c30  \n",
    "https://pandas.pydata.org/pandas-docs/stable/user_guide/style.html"
   ]
  },
  {
   "cell_type": "code",
   "execution_count": 4,
   "metadata": {},
   "outputs": [],
   "source": [
    "import pandas as pd\n",
    "import numpy as np"
   ]
  },
  {
   "cell_type": "markdown",
   "metadata": {},
   "source": [
    "#### 1. Styling"
   ]
  },
  {
   "cell_type": "markdown",
   "metadata": {},
   "source": [
    "특정조건(음수값) 다른 색깔 주기"
   ]
  },
  {
   "cell_type": "code",
   "execution_count": 1,
   "metadata": {},
   "outputs": [
    {
     "data": {
      "text/html": [
       "<style  type=\"text/css\" >\n",
       "    #T_ecb905e2_6629_11e9_a1c3_6c626dab6a1erow0_col0 {\n",
       "            color:  black;\n",
       "        }    #T_ecb905e2_6629_11e9_a1c3_6c626dab6a1erow0_col1 {\n",
       "            color:  red;\n",
       "        }    #T_ecb905e2_6629_11e9_a1c3_6c626dab6a1erow1_col0 {\n",
       "            color:  red;\n",
       "        }    #T_ecb905e2_6629_11e9_a1c3_6c626dab6a1erow1_col1 {\n",
       "            color:  black;\n",
       "        }    #T_ecb905e2_6629_11e9_a1c3_6c626dab6a1erow2_col0 {\n",
       "            color:  black;\n",
       "        }    #T_ecb905e2_6629_11e9_a1c3_6c626dab6a1erow2_col1 {\n",
       "            color:  black;\n",
       "        }</style><table id=\"T_ecb905e2_6629_11e9_a1c3_6c626dab6a1e\" ><thead>    <tr>        <th class=\"blank level0\" ></th>        <th class=\"col_heading level0 col0\" >col_1</th>        <th class=\"col_heading level0 col1\" >col_2</th>    </tr></thead><tbody>\n",
       "                <tr>\n",
       "                        <th id=\"T_ecb905e2_6629_11e9_a1c3_6c626dab6a1elevel0_row0\" class=\"row_heading level0 row0\" >0</th>\n",
       "                        <td id=\"T_ecb905e2_6629_11e9_a1c3_6c626dab6a1erow0_col0\" class=\"data row0 col0\" >1.53</td>\n",
       "                        <td id=\"T_ecb905e2_6629_11e9_a1c3_6c626dab6a1erow0_col1\" class=\"data row0 col1\" >-4.1</td>\n",
       "            </tr>\n",
       "            <tr>\n",
       "                        <th id=\"T_ecb905e2_6629_11e9_a1c3_6c626dab6a1elevel0_row1\" class=\"row_heading level0 row1\" >1</th>\n",
       "                        <td id=\"T_ecb905e2_6629_11e9_a1c3_6c626dab6a1erow1_col0\" class=\"data row1 col0\" >-2.5</td>\n",
       "                        <td id=\"T_ecb905e2_6629_11e9_a1c3_6c626dab6a1erow1_col1\" class=\"data row1 col1\" >5.9</td>\n",
       "            </tr>\n",
       "            <tr>\n",
       "                        <th id=\"T_ecb905e2_6629_11e9_a1c3_6c626dab6a1elevel0_row2\" class=\"row_heading level0 row2\" >2</th>\n",
       "                        <td id=\"T_ecb905e2_6629_11e9_a1c3_6c626dab6a1erow2_col0\" class=\"data row2 col0\" >3.53</td>\n",
       "                        <td id=\"T_ecb905e2_6629_11e9_a1c3_6c626dab6a1erow2_col1\" class=\"data row2 col1\" >0</td>\n",
       "            </tr>\n",
       "    </tbody></table>"
      ],
      "text/plain": [
       "<pandas.io.formats.style.Styler at 0x1f5c72aa4a8>"
      ]
     },
     "execution_count": 1,
     "metadata": {},
     "output_type": "execute_result"
    }
   ],
   "source": [
    "def color_negative_red(val):\n",
    "    color = 'red' if val < 0 else 'black'\n",
    "    return 'color: %s' % color\n",
    "df = pd.DataFrame(dict(col_1=[1.53,-2.5,3.53], \n",
    "                       col_2=[-4.1,5.9,0])\n",
    "                 )\n",
    "df.style.applymap(color_negative_red)"
   ]
  },
  {
   "cell_type": "markdown",
   "metadata": {},
   "source": [
    "인덱스 없애기"
   ]
  },
  {
   "cell_type": "code",
   "execution_count": 2,
   "metadata": {},
   "outputs": [
    {
     "data": {
      "text/html": [
       "<style  type=\"text/css\" >\n",
       "</style><table id=\"T_80b6190c_662a_11e9_9f6e_6c626dab6a1e\" ><thead>    <tr>        <th class=\"col_heading level0 col0\" >col_1</th>        <th class=\"col_heading level0 col1\" >col_2</th>    </tr></thead><tbody>\n",
       "                <tr>\n",
       "                                <td id=\"T_80b6190c_662a_11e9_9f6e_6c626dab6a1erow0_col0\" class=\"data row0 col0\" >1.53</td>\n",
       "                        <td id=\"T_80b6190c_662a_11e9_9f6e_6c626dab6a1erow0_col1\" class=\"data row0 col1\" >-4.1</td>\n",
       "            </tr>\n",
       "            <tr>\n",
       "                                <td id=\"T_80b6190c_662a_11e9_9f6e_6c626dab6a1erow1_col0\" class=\"data row1 col0\" >-2.5</td>\n",
       "                        <td id=\"T_80b6190c_662a_11e9_9f6e_6c626dab6a1erow1_col1\" class=\"data row1 col1\" >5.9</td>\n",
       "            </tr>\n",
       "            <tr>\n",
       "                                <td id=\"T_80b6190c_662a_11e9_9f6e_6c626dab6a1erow2_col0\" class=\"data row2 col0\" >3.53</td>\n",
       "                        <td id=\"T_80b6190c_662a_11e9_9f6e_6c626dab6a1erow2_col1\" class=\"data row2 col1\" >0</td>\n",
       "            </tr>\n",
       "    </tbody></table>"
      ],
      "text/plain": [
       "<pandas.io.formats.style.Styler at 0x1f5c6fe1da0>"
      ]
     },
     "execution_count": 2,
     "metadata": {},
     "output_type": "execute_result"
    }
   ],
   "source": [
    "df.head().style.hide_index()"
   ]
  },
  {
   "cell_type": "markdown",
   "metadata": {},
   "source": [
    "표에 마우스 오버(hover) 효과 주기"
   ]
  },
  {
   "cell_type": "code",
   "execution_count": 5,
   "metadata": {},
   "outputs": [
    {
     "data": {
      "text/html": [
       "<style  type=\"text/css\" >\n",
       "    #T_b73a97cc_662a_11e9_98ab_6c626dab6a1e tr:hover {\n",
       "          background-color: yellow;\n",
       "    }</style><table id=\"T_b73a97cc_662a_11e9_98ab_6c626dab6a1e\" ><thead>    <tr>        <th class=\"blank level0\" ></th>        <th class=\"col_heading level0 col0\" >0</th>        <th class=\"col_heading level0 col1\" >1</th>        <th class=\"col_heading level0 col2\" >2</th>    </tr></thead><tbody>\n",
       "                <tr>\n",
       "                        <th id=\"T_b73a97cc_662a_11e9_98ab_6c626dab6a1elevel0_row0\" class=\"row_heading level0 row0\" >0</th>\n",
       "                        <td id=\"T_b73a97cc_662a_11e9_98ab_6c626dab6a1erow0_col0\" class=\"data row0 col0\" >-1.93302</td>\n",
       "                        <td id=\"T_b73a97cc_662a_11e9_98ab_6c626dab6a1erow0_col1\" class=\"data row0 col1\" >0.543243</td>\n",
       "                        <td id=\"T_b73a97cc_662a_11e9_98ab_6c626dab6a1erow0_col2\" class=\"data row0 col2\" >-0.808563</td>\n",
       "            </tr>\n",
       "            <tr>\n",
       "                        <th id=\"T_b73a97cc_662a_11e9_98ab_6c626dab6a1elevel0_row1\" class=\"row_heading level0 row1\" >1</th>\n",
       "                        <td id=\"T_b73a97cc_662a_11e9_98ab_6c626dab6a1erow1_col0\" class=\"data row1 col0\" >-1.42373</td>\n",
       "                        <td id=\"T_b73a97cc_662a_11e9_98ab_6c626dab6a1erow1_col1\" class=\"data row1 col1\" >-0.59664</td>\n",
       "                        <td id=\"T_b73a97cc_662a_11e9_98ab_6c626dab6a1erow1_col2\" class=\"data row1 col2\" >-1.96142</td>\n",
       "            </tr>\n",
       "            <tr>\n",
       "                        <th id=\"T_b73a97cc_662a_11e9_98ab_6c626dab6a1elevel0_row2\" class=\"row_heading level0 row2\" >2</th>\n",
       "                        <td id=\"T_b73a97cc_662a_11e9_98ab_6c626dab6a1erow2_col0\" class=\"data row2 col0\" >2.49587</td>\n",
       "                        <td id=\"T_b73a97cc_662a_11e9_98ab_6c626dab6a1erow2_col1\" class=\"data row2 col1\" >1.16045</td>\n",
       "                        <td id=\"T_b73a97cc_662a_11e9_98ab_6c626dab6a1erow2_col2\" class=\"data row2 col2\" >-0.0551432</td>\n",
       "            </tr>\n",
       "            <tr>\n",
       "                        <th id=\"T_b73a97cc_662a_11e9_98ab_6c626dab6a1elevel0_row3\" class=\"row_heading level0 row3\" >3</th>\n",
       "                        <td id=\"T_b73a97cc_662a_11e9_98ab_6c626dab6a1erow3_col0\" class=\"data row3 col0\" >-0.0582352</td>\n",
       "                        <td id=\"T_b73a97cc_662a_11e9_98ab_6c626dab6a1erow3_col1\" class=\"data row3 col1\" >-0.41949</td>\n",
       "                        <td id=\"T_b73a97cc_662a_11e9_98ab_6c626dab6a1erow3_col2\" class=\"data row3 col2\" >-0.893241</td>\n",
       "            </tr>\n",
       "            <tr>\n",
       "                        <th id=\"T_b73a97cc_662a_11e9_98ab_6c626dab6a1elevel0_row4\" class=\"row_heading level0 row4\" >4</th>\n",
       "                        <td id=\"T_b73a97cc_662a_11e9_98ab_6c626dab6a1erow4_col0\" class=\"data row4 col0\" >0.251587</td>\n",
       "                        <td id=\"T_b73a97cc_662a_11e9_98ab_6c626dab6a1erow4_col1\" class=\"data row4 col1\" >1.07996</td>\n",
       "                        <td id=\"T_b73a97cc_662a_11e9_98ab_6c626dab6a1erow4_col2\" class=\"data row4 col2\" >-0.121987</td>\n",
       "            </tr>\n",
       "    </tbody></table>"
      ],
      "text/plain": [
       "<pandas.io.formats.style.Styler at 0x1f5c6fe15c0>"
      ]
     },
     "execution_count": 5,
     "metadata": {},
     "output_type": "execute_result"
    }
   ],
   "source": [
    "df = pd.DataFrame(np.random.randn(5, 3))\n",
    "\n",
    "df.style.set_table_styles(\n",
    "[{'selector': 'tr:hover',\n",
    "  'props': [('background-color', 'yellow')]}]\n",
    ")"
   ]
  },
  {
   "cell_type": "markdown",
   "metadata": {},
   "source": [
    "스타일 시트(CSS) 효과 주기"
   ]
  },
  {
   "cell_type": "code",
   "execution_count": 7,
   "metadata": {},
   "outputs": [
    {
     "data": {
      "text/html": [
       "<style  type=\"text/css\" >\n",
       "    #T_ed4b1c02_662a_11e9_9bab_6c626dab6a1e tr:nth-of-type(odd) {\n",
       "          background: #eee;\n",
       "    }    #T_ed4b1c02_662a_11e9_9bab_6c626dab6a1e tr:nth-of-type(even) {\n",
       "          background: white;\n",
       "    }    #T_ed4b1c02_662a_11e9_9bab_6c626dab6a1e th {\n",
       "          background: #606060;\n",
       "          color: white;\n",
       "          font-family: verdana;\n",
       "    }    #T_ed4b1c02_662a_11e9_9bab_6c626dab6a1e td {\n",
       "          font-family: verdana;\n",
       "    }</style><table id=\"T_ed4b1c02_662a_11e9_9bab_6c626dab6a1e\" ><thead>    <tr>        <th class=\"col_heading level0 col0\" >airlines</th>        <th class=\"col_heading level0 col1\" >departure</th>        <th class=\"col_heading level0 col2\" >arrival</th>    </tr></thead><tbody>\n",
       "                <tr>\n",
       "                                <td id=\"T_ed4b1c02_662a_11e9_9bab_6c626dab6a1erow0_col0\" class=\"data row0 col0\" >Delta</td>\n",
       "                        <td id=\"T_ed4b1c02_662a_11e9_9bab_6c626dab6a1erow0_col1\" class=\"data row0 col1\" >SFO</td>\n",
       "                        <td id=\"T_ed4b1c02_662a_11e9_9bab_6c626dab6a1erow0_col2\" class=\"data row0 col2\" >ORD</td>\n",
       "            </tr>\n",
       "            <tr>\n",
       "                                <td id=\"T_ed4b1c02_662a_11e9_9bab_6c626dab6a1erow1_col0\" class=\"data row1 col0\" >JetBlue</td>\n",
       "                        <td id=\"T_ed4b1c02_662a_11e9_9bab_6c626dab6a1erow1_col1\" class=\"data row1 col1\" >SFO</td>\n",
       "                        <td id=\"T_ed4b1c02_662a_11e9_9bab_6c626dab6a1erow1_col2\" class=\"data row1 col2\" >DFW</td>\n",
       "            </tr>\n",
       "            <tr>\n",
       "                                <td id=\"T_ed4b1c02_662a_11e9_9bab_6c626dab6a1erow2_col0\" class=\"data row2 col0\" >Delta</td>\n",
       "                        <td id=\"T_ed4b1c02_662a_11e9_9bab_6c626dab6a1erow2_col1\" class=\"data row2 col1\" >LAX</td>\n",
       "                        <td id=\"T_ed4b1c02_662a_11e9_9bab_6c626dab6a1erow2_col2\" class=\"data row2 col2\" >DFW</td>\n",
       "            </tr>\n",
       "            <tr>\n",
       "                                <td id=\"T_ed4b1c02_662a_11e9_9bab_6c626dab6a1erow3_col0\" class=\"data row3 col0\" >AA</td>\n",
       "                        <td id=\"T_ed4b1c02_662a_11e9_9bab_6c626dab6a1erow3_col1\" class=\"data row3 col1\" >LAX</td>\n",
       "                        <td id=\"T_ed4b1c02_662a_11e9_9bab_6c626dab6a1erow3_col2\" class=\"data row3 col2\" >ATL</td>\n",
       "            </tr>\n",
       "            <tr>\n",
       "                                <td id=\"T_ed4b1c02_662a_11e9_9bab_6c626dab6a1erow4_col0\" class=\"data row4 col0\" >SouthWest</td>\n",
       "                        <td id=\"T_ed4b1c02_662a_11e9_9bab_6c626dab6a1erow4_col1\" class=\"data row4 col1\" >JFK</td>\n",
       "                        <td id=\"T_ed4b1c02_662a_11e9_9bab_6c626dab6a1erow4_col2\" class=\"data row4 col2\" >ATL</td>\n",
       "            </tr>\n",
       "            <tr>\n",
       "                                <td id=\"T_ed4b1c02_662a_11e9_9bab_6c626dab6a1erow5_col0\" class=\"data row5 col0\" >Delta</td>\n",
       "                        <td id=\"T_ed4b1c02_662a_11e9_9bab_6c626dab6a1erow5_col1\" class=\"data row5 col1\" >SFO</td>\n",
       "                        <td id=\"T_ed4b1c02_662a_11e9_9bab_6c626dab6a1erow5_col2\" class=\"data row5 col2\" >ORD</td>\n",
       "            </tr>\n",
       "    </tbody></table>"
      ],
      "text/plain": [
       "<pandas.io.formats.style.Styler at 0x1f5ca730748>"
      ]
     },
     "execution_count": 7,
     "metadata": {},
     "output_type": "execute_result"
    }
   ],
   "source": [
    "df = pd.DataFrame(\n",
    "dict(departure=['SFO', 'SFO', 'LAX', 'LAX', 'JFK', 'SFO'],\n",
    "     arrival=['ORD', 'DFW', 'DFW', 'ATL', 'ATL', 'ORD'],\n",
    "     airlines=['Delta','JetBlue','Delta','AA','SouthWest',  \n",
    "               'Delta']),\n",
    "columns=['airlines', 'departure','arrival'])\n",
    "\n",
    "df.style.set_table_styles(\n",
    "[{'selector': 'tr:nth-of-type(odd)',\n",
    "  'props': [('background', '#eee')]}, \n",
    " {'selector': 'tr:nth-of-type(even)',\n",
    "  'props': [('background', 'white')]},\n",
    " {'selector': 'th',\n",
    "  'props': [('background', '#606060'), \n",
    "            ('color', 'white'),\n",
    "            ('font-family', 'verdana')]},\n",
    " {'selector': 'td',\n",
    "  'props': [('font-family', 'verdana')]},\n",
    "]\n",
    ").hide_index()"
   ]
  },
  {
   "cell_type": "markdown",
   "metadata": {},
   "source": [
    "#### 2. Pandas Options"
   ]
  },
  {
   "cell_type": "code",
   "execution_count": null,
   "metadata": {},
   "outputs": [],
   "source": [
    "pd.options.display.max_columns = 50  # None -> No Restrictions\n",
    "pd.options.display.max_rows = 200    # None -> Be careful with this \n",
    "pd.options.display.max_colwidth = 100\n",
    "pd.options.display.precision = 3"
   ]
  },
  {
   "cell_type": "markdown",
   "metadata": {},
   "source": [
    "#### 3. Group by with multiple aggregations"
   ]
  },
  {
   "cell_type": "code",
   "execution_count": 25,
   "metadata": {},
   "outputs": [
    {
     "data": {
      "text/html": [
       "<div>\n",
       "<style scoped>\n",
       "    .dataframe tbody tr th:only-of-type {\n",
       "        vertical-align: middle;\n",
       "    }\n",
       "\n",
       "    .dataframe tbody tr th {\n",
       "        vertical-align: top;\n",
       "    }\n",
       "\n",
       "    .dataframe thead tr th {\n",
       "        text-align: left;\n",
       "    }\n",
       "\n",
       "    .dataframe thead tr:last-of-type th {\n",
       "        text-align: right;\n",
       "    }\n",
       "</style>\n",
       "<table border=\"1\" class=\"dataframe\">\n",
       "  <thead>\n",
       "    <tr>\n",
       "      <th></th>\n",
       "      <th></th>\n",
       "      <th colspan=\"2\" halign=\"left\">col_1</th>\n",
       "      <th colspan=\"3\" halign=\"left\">col_2</th>\n",
       "    </tr>\n",
       "    <tr>\n",
       "      <th></th>\n",
       "      <th></th>\n",
       "      <th>max</th>\n",
       "      <th>mean</th>\n",
       "      <th>sum</th>\n",
       "      <th>min</th>\n",
       "      <th>count</th>\n",
       "    </tr>\n",
       "    <tr>\n",
       "      <th>A</th>\n",
       "      <th>B</th>\n",
       "      <th></th>\n",
       "      <th></th>\n",
       "      <th></th>\n",
       "      <th></th>\n",
       "      <th></th>\n",
       "    </tr>\n",
       "  </thead>\n",
       "  <tbody>\n",
       "    <tr>\n",
       "      <th rowspan=\"2\" valign=\"top\">coke</th>\n",
       "      <th>alpha</th>\n",
       "      <td>3</td>\n",
       "      <td>2.0</td>\n",
       "      <td>3</td>\n",
       "      <td>1</td>\n",
       "      <td>2</td>\n",
       "    </tr>\n",
       "    <tr>\n",
       "      <th>beta</th>\n",
       "      <td>7</td>\n",
       "      <td>6.5</td>\n",
       "      <td>12</td>\n",
       "      <td>3</td>\n",
       "      <td>2</td>\n",
       "    </tr>\n",
       "    <tr>\n",
       "      <th rowspan=\"2\" valign=\"top\">sprite</th>\n",
       "      <th>beta</th>\n",
       "      <td>4</td>\n",
       "      <td>4.0</td>\n",
       "      <td>4</td>\n",
       "      <td>4</td>\n",
       "      <td>1</td>\n",
       "    </tr>\n",
       "    <tr>\n",
       "      <th>gamma</th>\n",
       "      <td>5</td>\n",
       "      <td>3.5</td>\n",
       "      <td>13</td>\n",
       "      <td>6</td>\n",
       "      <td>2</td>\n",
       "    </tr>\n",
       "  </tbody>\n",
       "</table>\n",
       "</div>"
      ],
      "text/plain": [
       "             col_1      col_2          \n",
       "               max mean   sum min count\n",
       "A      B                               \n",
       "coke   alpha     3  2.0     3   1     2\n",
       "       beta      7  6.5    12   3     2\n",
       "sprite beta      4  4.0     4   4     1\n",
       "       gamma     5  3.5    13   6     2"
      ]
     },
     "execution_count": 25,
     "metadata": {},
     "output_type": "execute_result"
    }
   ],
   "source": [
    "df = pd.DataFrame(dict(A=['coke', 'sprite', 'coke', 'sprite',\n",
    "                          'sprite', 'coke', 'coke'],\n",
    "                       B=['alpha','gamma', 'alpha', 'beta',\n",
    "                          'gamma', 'beta', 'beta'],\n",
    "                       col_1=[1,2,3,4,5,6,7],\n",
    "                       col_2=[1,6,2,4,7,9,3]))\n",
    "tbl = df.groupby(['A','B']).agg({'col_1': ['max', np.mean],\n",
    "                                 'col_2': ['sum','min','count']})\n",
    "tbl        # 'count' will always be the count for number of rows in each group."
   ]
  },
  {
   "cell_type": "markdown",
   "metadata": {},
   "source": [
    "#### 4. Column slicing"
   ]
  },
  {
   "cell_type": "code",
   "execution_count": 26,
   "metadata": {},
   "outputs": [
    {
     "data": {
      "text/html": [
       "<div>\n",
       "<style scoped>\n",
       "    .dataframe tbody tr th:only-of-type {\n",
       "        vertical-align: middle;\n",
       "    }\n",
       "\n",
       "    .dataframe tbody tr th {\n",
       "        vertical-align: top;\n",
       "    }\n",
       "\n",
       "    .dataframe thead th {\n",
       "        text-align: right;\n",
       "    }\n",
       "</style>\n",
       "<table border=\"1\" class=\"dataframe\">\n",
       "  <thead>\n",
       "    <tr style=\"text-align: right;\">\n",
       "      <th></th>\n",
       "      <th>col_1</th>\n",
       "      <th>col_2</th>\n",
       "    </tr>\n",
       "  </thead>\n",
       "  <tbody>\n",
       "    <tr>\n",
       "      <th>0</th>\n",
       "      <td>1</td>\n",
       "      <td>1</td>\n",
       "    </tr>\n",
       "    <tr>\n",
       "      <th>1</th>\n",
       "      <td>2</td>\n",
       "      <td>6</td>\n",
       "    </tr>\n",
       "    <tr>\n",
       "      <th>2</th>\n",
       "      <td>3</td>\n",
       "      <td>2</td>\n",
       "    </tr>\n",
       "    <tr>\n",
       "      <th>3</th>\n",
       "      <td>4</td>\n",
       "      <td>4</td>\n",
       "    </tr>\n",
       "    <tr>\n",
       "      <th>4</th>\n",
       "      <td>5</td>\n",
       "      <td>7</td>\n",
       "    </tr>\n",
       "  </tbody>\n",
       "</table>\n",
       "</div>"
      ],
      "text/plain": [
       "   col_1  col_2\n",
       "0      1      1\n",
       "1      2      6\n",
       "2      3      2\n",
       "3      4      4\n",
       "4      5      7"
      ]
     },
     "execution_count": 26,
     "metadata": {},
     "output_type": "execute_result"
    }
   ],
   "source": [
    "df.iloc[:,2:5].head()             # select the 2nd to the 4th column"
   ]
  },
  {
   "cell_type": "code",
   "execution_count": 27,
   "metadata": {},
   "outputs": [
    {
     "data": {
      "text/html": [
       "<div>\n",
       "<style scoped>\n",
       "    .dataframe tbody tr th:only-of-type {\n",
       "        vertical-align: middle;\n",
       "    }\n",
       "\n",
       "    .dataframe tbody tr th {\n",
       "        vertical-align: top;\n",
       "    }\n",
       "\n",
       "    .dataframe thead th {\n",
       "        text-align: right;\n",
       "    }\n",
       "</style>\n",
       "<table border=\"1\" class=\"dataframe\">\n",
       "  <thead>\n",
       "    <tr style=\"text-align: right;\">\n",
       "      <th></th>\n",
       "    </tr>\n",
       "  </thead>\n",
       "  <tbody>\n",
       "    <tr>\n",
       "      <th>0</th>\n",
       "    </tr>\n",
       "    <tr>\n",
       "      <th>1</th>\n",
       "    </tr>\n",
       "    <tr>\n",
       "      <th>2</th>\n",
       "    </tr>\n",
       "    <tr>\n",
       "      <th>3</th>\n",
       "    </tr>\n",
       "    <tr>\n",
       "      <th>4</th>\n",
       "    </tr>\n",
       "  </tbody>\n",
       "</table>\n",
       "</div>"
      ],
      "text/plain": [
       "Empty DataFrame\n",
       "Columns: []\n",
       "Index: [0, 1, 2, 3, 4]"
      ]
     },
     "execution_count": 27,
     "metadata": {},
     "output_type": "execute_result"
    }
   ],
   "source": [
    "df.loc[:,'column_x':].head()      # select all columns starting from 'column_x'"
   ]
  },
  {
   "cell_type": "markdown",
   "metadata": {},
   "source": [
    "#### 5. Add row ID / random row ID to each group"
   ]
  },
  {
   "cell_type": "code",
   "execution_count": 28,
   "metadata": {},
   "outputs": [],
   "source": [
    "# df: target dataframe \n",
    "np.random.seed(0)    # set random seed\n",
    "df['random_ID_all'] = np.random.permutation(df.shape[0])\n",
    "df['ID_all'] = [i for i in range(1, df.shape[0]+1)]"
   ]
  },
  {
   "cell_type": "code",
   "execution_count": 29,
   "metadata": {},
   "outputs": [],
   "source": [
    "df['ID'] = df.groupby(['A', 'B'])['ID_all'].rank(method='first', ascending=True).astype(int)\n",
    "df['random_ID'] = df.groupby(['A', 'B'])['random_ID_all'].rank(method='first', ascending=True).astype(int)"
   ]
  },
  {
   "cell_type": "code",
   "execution_count": 30,
   "metadata": {},
   "outputs": [
    {
     "data": {
      "text/html": [
       "<div>\n",
       "<style scoped>\n",
       "    .dataframe tbody tr th:only-of-type {\n",
       "        vertical-align: middle;\n",
       "    }\n",
       "\n",
       "    .dataframe tbody tr th {\n",
       "        vertical-align: top;\n",
       "    }\n",
       "\n",
       "    .dataframe thead th {\n",
       "        text-align: right;\n",
       "    }\n",
       "</style>\n",
       "<table border=\"1\" class=\"dataframe\">\n",
       "  <thead>\n",
       "    <tr style=\"text-align: right;\">\n",
       "      <th></th>\n",
       "      <th>A</th>\n",
       "      <th>B</th>\n",
       "      <th>col_1</th>\n",
       "      <th>col_2</th>\n",
       "      <th>random_ID_all</th>\n",
       "      <th>ID_all</th>\n",
       "      <th>ID</th>\n",
       "      <th>random_ID</th>\n",
       "    </tr>\n",
       "  </thead>\n",
       "  <tbody>\n",
       "    <tr>\n",
       "      <th>0</th>\n",
       "      <td>coke</td>\n",
       "      <td>alpha</td>\n",
       "      <td>1</td>\n",
       "      <td>1</td>\n",
       "      <td>6</td>\n",
       "      <td>1</td>\n",
       "      <td>1</td>\n",
       "      <td>2</td>\n",
       "    </tr>\n",
       "    <tr>\n",
       "      <th>1</th>\n",
       "      <td>sprite</td>\n",
       "      <td>gamma</td>\n",
       "      <td>2</td>\n",
       "      <td>6</td>\n",
       "      <td>2</td>\n",
       "      <td>2</td>\n",
       "      <td>1</td>\n",
       "      <td>2</td>\n",
       "    </tr>\n",
       "    <tr>\n",
       "      <th>2</th>\n",
       "      <td>coke</td>\n",
       "      <td>alpha</td>\n",
       "      <td>3</td>\n",
       "      <td>2</td>\n",
       "      <td>1</td>\n",
       "      <td>3</td>\n",
       "      <td>2</td>\n",
       "      <td>1</td>\n",
       "    </tr>\n",
       "    <tr>\n",
       "      <th>3</th>\n",
       "      <td>sprite</td>\n",
       "      <td>beta</td>\n",
       "      <td>4</td>\n",
       "      <td>4</td>\n",
       "      <td>3</td>\n",
       "      <td>4</td>\n",
       "      <td>1</td>\n",
       "      <td>1</td>\n",
       "    </tr>\n",
       "    <tr>\n",
       "      <th>4</th>\n",
       "      <td>sprite</td>\n",
       "      <td>gamma</td>\n",
       "      <td>5</td>\n",
       "      <td>7</td>\n",
       "      <td>0</td>\n",
       "      <td>5</td>\n",
       "      <td>2</td>\n",
       "      <td>1</td>\n",
       "    </tr>\n",
       "    <tr>\n",
       "      <th>5</th>\n",
       "      <td>coke</td>\n",
       "      <td>beta</td>\n",
       "      <td>6</td>\n",
       "      <td>9</td>\n",
       "      <td>5</td>\n",
       "      <td>6</td>\n",
       "      <td>1</td>\n",
       "      <td>2</td>\n",
       "    </tr>\n",
       "    <tr>\n",
       "      <th>6</th>\n",
       "      <td>coke</td>\n",
       "      <td>beta</td>\n",
       "      <td>7</td>\n",
       "      <td>3</td>\n",
       "      <td>4</td>\n",
       "      <td>7</td>\n",
       "      <td>2</td>\n",
       "      <td>1</td>\n",
       "    </tr>\n",
       "  </tbody>\n",
       "</table>\n",
       "</div>"
      ],
      "text/plain": [
       "        A      B  col_1  col_2  random_ID_all  ID_all  ID  random_ID\n",
       "0    coke  alpha      1      1              6       1   1          2\n",
       "1  sprite  gamma      2      6              2       2   1          2\n",
       "2    coke  alpha      3      2              1       3   2          1\n",
       "3  sprite   beta      4      4              3       4   1          1\n",
       "4  sprite  gamma      5      7              0       5   2          1\n",
       "5    coke   beta      6      9              5       6   1          2\n",
       "6    coke   beta      7      3              4       7   2          1"
      ]
     },
     "execution_count": 30,
     "metadata": {},
     "output_type": "execute_result"
    }
   ],
   "source": [
    "df"
   ]
  },
  {
   "cell_type": "markdown",
   "metadata": {},
   "source": [
    "#### 6. List all unique values in group"
   ]
  },
  {
   "cell_type": "code",
   "execution_count": 33,
   "metadata": {},
   "outputs": [
    {
     "data": {
      "text/html": [
       "<div>\n",
       "<style scoped>\n",
       "    .dataframe tbody tr th:only-of-type {\n",
       "        vertical-align: middle;\n",
       "    }\n",
       "\n",
       "    .dataframe tbody tr th {\n",
       "        vertical-align: top;\n",
       "    }\n",
       "\n",
       "    .dataframe thead th {\n",
       "        text-align: right;\n",
       "    }\n",
       "</style>\n",
       "<table border=\"1\" class=\"dataframe\">\n",
       "  <thead>\n",
       "    <tr style=\"text-align: right;\">\n",
       "      <th></th>\n",
       "      <th>A</th>\n",
       "      <th>B</th>\n",
       "      <th>C</th>\n",
       "    </tr>\n",
       "  </thead>\n",
       "  <tbody>\n",
       "    <tr>\n",
       "      <th>0</th>\n",
       "      <td>A</td>\n",
       "      <td>1</td>\n",
       "      <td>CA</td>\n",
       "    </tr>\n",
       "    <tr>\n",
       "      <th>1</th>\n",
       "      <td>A</td>\n",
       "      <td>1</td>\n",
       "      <td>NY</td>\n",
       "    </tr>\n",
       "    <tr>\n",
       "      <th>2</th>\n",
       "      <td>A</td>\n",
       "      <td>1</td>\n",
       "      <td>CA</td>\n",
       "    </tr>\n",
       "    <tr>\n",
       "      <th>3</th>\n",
       "      <td>A</td>\n",
       "      <td>2</td>\n",
       "      <td>FL</td>\n",
       "    </tr>\n",
       "    <tr>\n",
       "      <th>4</th>\n",
       "      <td>A</td>\n",
       "      <td>2</td>\n",
       "      <td>FL</td>\n",
       "    </tr>\n",
       "    <tr>\n",
       "      <th>5</th>\n",
       "      <td>B</td>\n",
       "      <td>1</td>\n",
       "      <td>WA</td>\n",
       "    </tr>\n",
       "    <tr>\n",
       "      <th>6</th>\n",
       "      <td>B</td>\n",
       "      <td>1</td>\n",
       "      <td>FL</td>\n",
       "    </tr>\n",
       "    <tr>\n",
       "      <th>7</th>\n",
       "      <td>B</td>\n",
       "      <td>1</td>\n",
       "      <td>NY</td>\n",
       "    </tr>\n",
       "    <tr>\n",
       "      <th>8</th>\n",
       "      <td>B</td>\n",
       "      <td>2</td>\n",
       "      <td>WA</td>\n",
       "    </tr>\n",
       "  </tbody>\n",
       "</table>\n",
       "</div>"
      ],
      "text/plain": [
       "   A  B   C\n",
       "0  A  1  CA\n",
       "1  A  1  NY\n",
       "2  A  1  CA\n",
       "3  A  2  FL\n",
       "4  A  2  FL\n",
       "5  B  1  WA\n",
       "6  B  1  FL\n",
       "7  B  1  NY\n",
       "8  B  2  WA"
      ]
     },
     "execution_count": 33,
     "metadata": {},
     "output_type": "execute_result"
    }
   ],
   "source": [
    "df = pd.DataFrame(dict(A=['A','A','A','A','A','B','B','B','B'],\n",
    "                       B=[1,1,1,2,2,1,1,1,2],\n",
    "                       C=['CA','NY','CA','FL','FL',     \n",
    "                          'WA','FL','NY','WA']))\n",
    "df"
   ]
  },
  {
   "cell_type": "code",
   "execution_count": 32,
   "metadata": {},
   "outputs": [
    {
     "data": {
      "text/html": [
       "<div>\n",
       "<style scoped>\n",
       "    .dataframe tbody tr th:only-of-type {\n",
       "        vertical-align: middle;\n",
       "    }\n",
       "\n",
       "    .dataframe tbody tr th {\n",
       "        vertical-align: top;\n",
       "    }\n",
       "\n",
       "    .dataframe thead th {\n",
       "        text-align: right;\n",
       "    }\n",
       "</style>\n",
       "<table border=\"1\" class=\"dataframe\">\n",
       "  <thead>\n",
       "    <tr style=\"text-align: right;\">\n",
       "      <th></th>\n",
       "      <th>A</th>\n",
       "      <th>B</th>\n",
       "      <th>C</th>\n",
       "    </tr>\n",
       "  </thead>\n",
       "  <tbody>\n",
       "    <tr>\n",
       "      <th>0</th>\n",
       "      <td>A</td>\n",
       "      <td>1</td>\n",
       "      <td>CA,NY</td>\n",
       "    </tr>\n",
       "    <tr>\n",
       "      <th>1</th>\n",
       "      <td>A</td>\n",
       "      <td>2</td>\n",
       "      <td>FL</td>\n",
       "    </tr>\n",
       "    <tr>\n",
       "      <th>2</th>\n",
       "      <td>B</td>\n",
       "      <td>1</td>\n",
       "      <td>WA,FL,NY</td>\n",
       "    </tr>\n",
       "    <tr>\n",
       "      <th>3</th>\n",
       "      <td>B</td>\n",
       "      <td>2</td>\n",
       "      <td>WA</td>\n",
       "    </tr>\n",
       "  </tbody>\n",
       "</table>\n",
       "</div>"
      ],
      "text/plain": [
       "   A  B         C\n",
       "0  A  1     CA,NY\n",
       "1  A  2        FL\n",
       "2  B  1  WA,FL,NY\n",
       "3  B  2        WA"
      ]
     },
     "execution_count": 32,
     "metadata": {},
     "output_type": "execute_result"
    }
   ],
   "source": [
    "tbl = df[['A', 'B', 'C']].drop_duplicates()\\\n",
    "                         .groupby(['A','B'])['C']\\\n",
    "                         .apply(list)\\\n",
    "                         .reset_index()\n",
    "\n",
    "# list to string (separated by commas) \n",
    "tbl['C'] = tbl.apply(lambda x: (','.join([str(s) for s in x['C']])), axis = 1)\n",
    "tbl"
   ]
  },
  {
   "cell_type": "markdown",
   "metadata": {},
   "source": [
    "#### 7. Add row total and column total to a numerical dataframe"
   ]
  },
  {
   "cell_type": "code",
   "execution_count": 34,
   "metadata": {},
   "outputs": [],
   "source": [
    "df = pd.DataFrame(dict(A=[2,6,3],\n",
    "                       B=[2,2,6], \n",
    "                       C=[3,2,3]))\n",
    "df['col_total']     = df.apply(lambda x: x.sum(), axis=1)\n",
    "df.loc['row_total'] = df.apply(lambda x: x.sum())"
   ]
  },
  {
   "cell_type": "code",
   "execution_count": 35,
   "metadata": {},
   "outputs": [
    {
     "data": {
      "text/html": [
       "<div>\n",
       "<style scoped>\n",
       "    .dataframe tbody tr th:only-of-type {\n",
       "        vertical-align: middle;\n",
       "    }\n",
       "\n",
       "    .dataframe tbody tr th {\n",
       "        vertical-align: top;\n",
       "    }\n",
       "\n",
       "    .dataframe thead th {\n",
       "        text-align: right;\n",
       "    }\n",
       "</style>\n",
       "<table border=\"1\" class=\"dataframe\">\n",
       "  <thead>\n",
       "    <tr style=\"text-align: right;\">\n",
       "      <th></th>\n",
       "      <th>A</th>\n",
       "      <th>B</th>\n",
       "      <th>C</th>\n",
       "      <th>col_total</th>\n",
       "    </tr>\n",
       "  </thead>\n",
       "  <tbody>\n",
       "    <tr>\n",
       "      <th>0</th>\n",
       "      <td>2</td>\n",
       "      <td>2</td>\n",
       "      <td>3</td>\n",
       "      <td>7</td>\n",
       "    </tr>\n",
       "    <tr>\n",
       "      <th>1</th>\n",
       "      <td>6</td>\n",
       "      <td>2</td>\n",
       "      <td>2</td>\n",
       "      <td>10</td>\n",
       "    </tr>\n",
       "    <tr>\n",
       "      <th>2</th>\n",
       "      <td>3</td>\n",
       "      <td>6</td>\n",
       "      <td>3</td>\n",
       "      <td>12</td>\n",
       "    </tr>\n",
       "    <tr>\n",
       "      <th>row_total</th>\n",
       "      <td>11</td>\n",
       "      <td>10</td>\n",
       "      <td>8</td>\n",
       "      <td>29</td>\n",
       "    </tr>\n",
       "  </tbody>\n",
       "</table>\n",
       "</div>"
      ],
      "text/plain": [
       "            A   B  C  col_total\n",
       "0           2   2  3          7\n",
       "1           6   2  2         10\n",
       "2           3   6  3         12\n",
       "row_total  11  10  8         29"
      ]
     },
     "execution_count": 35,
     "metadata": {},
     "output_type": "execute_result"
    }
   ],
   "source": [
    "df"
   ]
  },
  {
   "cell_type": "markdown",
   "metadata": {},
   "source": [
    "#### 8. Checking memory usage"
   ]
  },
  {
   "cell_type": "code",
   "execution_count": 38,
   "metadata": {},
   "outputs": [
    {
     "data": {
      "text/plain": [
       "Index        170\n",
       "A             32\n",
       "B             32\n",
       "C             32\n",
       "col_total     32\n",
       "dtype: int64"
      ]
     },
     "execution_count": 38,
     "metadata": {},
     "output_type": "execute_result"
    }
   ],
   "source": [
    "df.memory_usage(deep=True)"
   ]
  },
  {
   "cell_type": "markdown",
   "metadata": {},
   "source": [
    "#### 9. Cumulative sum"
   ]
  },
  {
   "cell_type": "code",
   "execution_count": 40,
   "metadata": {},
   "outputs": [
    {
     "data": {
      "text/html": [
       "<div>\n",
       "<style scoped>\n",
       "    .dataframe tbody tr th:only-of-type {\n",
       "        vertical-align: middle;\n",
       "    }\n",
       "\n",
       "    .dataframe tbody tr th {\n",
       "        vertical-align: top;\n",
       "    }\n",
       "\n",
       "    .dataframe thead th {\n",
       "        text-align: right;\n",
       "    }\n",
       "</style>\n",
       "<table border=\"1\" class=\"dataframe\">\n",
       "  <thead>\n",
       "    <tr style=\"text-align: right;\">\n",
       "      <th></th>\n",
       "      <th>A</th>\n",
       "      <th>B</th>\n",
       "      <th>C</th>\n",
       "      <th>col_total</th>\n",
       "      <th>cumulative_sum</th>\n",
       "    </tr>\n",
       "  </thead>\n",
       "  <tbody>\n",
       "    <tr>\n",
       "      <th>0</th>\n",
       "      <td>2</td>\n",
       "      <td>2</td>\n",
       "      <td>3</td>\n",
       "      <td>7</td>\n",
       "      <td>7</td>\n",
       "    </tr>\n",
       "    <tr>\n",
       "      <th>1</th>\n",
       "      <td>6</td>\n",
       "      <td>2</td>\n",
       "      <td>2</td>\n",
       "      <td>10</td>\n",
       "      <td>17</td>\n",
       "    </tr>\n",
       "    <tr>\n",
       "      <th>2</th>\n",
       "      <td>3</td>\n",
       "      <td>6</td>\n",
       "      <td>3</td>\n",
       "      <td>12</td>\n",
       "      <td>29</td>\n",
       "    </tr>\n",
       "    <tr>\n",
       "      <th>row_total</th>\n",
       "      <td>11</td>\n",
       "      <td>10</td>\n",
       "      <td>8</td>\n",
       "      <td>29</td>\n",
       "      <td>58</td>\n",
       "    </tr>\n",
       "  </tbody>\n",
       "</table>\n",
       "</div>"
      ],
      "text/plain": [
       "            A   B  C  col_total  cumulative_sum\n",
       "0           2   2  3          7               7\n",
       "1           6   2  2         10              17\n",
       "2           3   6  3         12              29\n",
       "row_total  11  10  8         29              58"
      ]
     },
     "execution_count": 40,
     "metadata": {},
     "output_type": "execute_result"
    }
   ],
   "source": [
    "df['cumulative_sum'] = df['col_total'].cumsum()\n",
    "df"
   ]
  },
  {
   "cell_type": "markdown",
   "metadata": {},
   "source": [
    "#### 10. Crosstab"
   ]
  },
  {
   "cell_type": "code",
   "execution_count": 44,
   "metadata": {},
   "outputs": [
    {
     "data": {
      "text/html": [
       "<div>\n",
       "<style scoped>\n",
       "    .dataframe tbody tr th:only-of-type {\n",
       "        vertical-align: middle;\n",
       "    }\n",
       "\n",
       "    .dataframe tbody tr th {\n",
       "        vertical-align: top;\n",
       "    }\n",
       "\n",
       "    .dataframe thead th {\n",
       "        text-align: right;\n",
       "    }\n",
       "</style>\n",
       "<table border=\"1\" class=\"dataframe\">\n",
       "  <thead>\n",
       "    <tr style=\"text-align: right;\">\n",
       "      <th></th>\n",
       "      <th>departure</th>\n",
       "      <th>arrival</th>\n",
       "      <th>airlines</th>\n",
       "    </tr>\n",
       "  </thead>\n",
       "  <tbody>\n",
       "    <tr>\n",
       "      <th>0</th>\n",
       "      <td>SFO</td>\n",
       "      <td>ORD</td>\n",
       "      <td>Delta</td>\n",
       "    </tr>\n",
       "    <tr>\n",
       "      <th>1</th>\n",
       "      <td>SFO</td>\n",
       "      <td>DFW</td>\n",
       "      <td>JetBlue</td>\n",
       "    </tr>\n",
       "    <tr>\n",
       "      <th>2</th>\n",
       "      <td>LAX</td>\n",
       "      <td>DFW</td>\n",
       "      <td>Delta</td>\n",
       "    </tr>\n",
       "    <tr>\n",
       "      <th>3</th>\n",
       "      <td>LAX</td>\n",
       "      <td>ATL</td>\n",
       "      <td>AA</td>\n",
       "    </tr>\n",
       "    <tr>\n",
       "      <th>4</th>\n",
       "      <td>JFK</td>\n",
       "      <td>ATL</td>\n",
       "      <td>SouthWest</td>\n",
       "    </tr>\n",
       "    <tr>\n",
       "      <th>5</th>\n",
       "      <td>SFO</td>\n",
       "      <td>ORD</td>\n",
       "      <td>Delta</td>\n",
       "    </tr>\n",
       "  </tbody>\n",
       "</table>\n",
       "</div>"
      ],
      "text/plain": [
       "  departure arrival   airlines\n",
       "0       SFO     ORD      Delta\n",
       "1       SFO     DFW    JetBlue\n",
       "2       LAX     DFW      Delta\n",
       "3       LAX     ATL         AA\n",
       "4       JFK     ATL  SouthWest\n",
       "5       SFO     ORD      Delta"
      ]
     },
     "execution_count": 44,
     "metadata": {},
     "output_type": "execute_result"
    }
   ],
   "source": [
    "df = pd.DataFrame(dict(departure=['SFO','SFO','LAX','LAX', 'JFK','SFO'],\n",
    "                       arrival=['ORD','DFW','DFW','ATL','ATL','ORD'],\n",
    "                       airlines=['Delta','JetBlue','Delta','AA','SouthWest','Delta']))\n",
    "df"
   ]
  },
  {
   "cell_type": "code",
   "execution_count": 49,
   "metadata": {},
   "outputs": [
    {
     "data": {
      "text/html": [
       "<div>\n",
       "<style scoped>\n",
       "    .dataframe tbody tr th:only-of-type {\n",
       "        vertical-align: middle;\n",
       "    }\n",
       "\n",
       "    .dataframe tbody tr th {\n",
       "        vertical-align: top;\n",
       "    }\n",
       "\n",
       "    .dataframe thead th {\n",
       "        text-align: right;\n",
       "    }\n",
       "</style>\n",
       "<table border=\"1\" class=\"dataframe\">\n",
       "  <thead>\n",
       "    <tr style=\"text-align: right;\">\n",
       "      <th></th>\n",
       "      <th>arrival</th>\n",
       "      <th>ATL</th>\n",
       "      <th>DFW</th>\n",
       "      <th>ORD</th>\n",
       "      <th>All</th>\n",
       "    </tr>\n",
       "    <tr>\n",
       "      <th>departure</th>\n",
       "      <th>airlines</th>\n",
       "      <th></th>\n",
       "      <th></th>\n",
       "      <th></th>\n",
       "      <th></th>\n",
       "    </tr>\n",
       "  </thead>\n",
       "  <tbody>\n",
       "    <tr>\n",
       "      <th>JFK</th>\n",
       "      <th>SouthWest</th>\n",
       "      <td>1</td>\n",
       "      <td>0</td>\n",
       "      <td>0</td>\n",
       "      <td>1</td>\n",
       "    </tr>\n",
       "    <tr>\n",
       "      <th rowspan=\"2\" valign=\"top\">LAX</th>\n",
       "      <th>AA</th>\n",
       "      <td>1</td>\n",
       "      <td>0</td>\n",
       "      <td>0</td>\n",
       "      <td>1</td>\n",
       "    </tr>\n",
       "    <tr>\n",
       "      <th>Delta</th>\n",
       "      <td>0</td>\n",
       "      <td>1</td>\n",
       "      <td>0</td>\n",
       "      <td>1</td>\n",
       "    </tr>\n",
       "    <tr>\n",
       "      <th rowspan=\"2\" valign=\"top\">SFO</th>\n",
       "      <th>Delta</th>\n",
       "      <td>0</td>\n",
       "      <td>0</td>\n",
       "      <td>2</td>\n",
       "      <td>2</td>\n",
       "    </tr>\n",
       "    <tr>\n",
       "      <th>JetBlue</th>\n",
       "      <td>0</td>\n",
       "      <td>1</td>\n",
       "      <td>0</td>\n",
       "      <td>1</td>\n",
       "    </tr>\n",
       "    <tr>\n",
       "      <th>All</th>\n",
       "      <th></th>\n",
       "      <td>2</td>\n",
       "      <td>2</td>\n",
       "      <td>2</td>\n",
       "      <td>6</td>\n",
       "    </tr>\n",
       "  </tbody>\n",
       "</table>\n",
       "</div>"
      ],
      "text/plain": [
       "arrival              ATL  DFW  ORD  All\n",
       "departure airlines                     \n",
       "JFK       SouthWest    1    0    0    1\n",
       "LAX       AA           1    0    0    1\n",
       "          Delta        0    1    0    1\n",
       "SFO       Delta        0    0    2    2\n",
       "          JetBlue      0    1    0    1\n",
       "All                    2    2    2    6"
      ]
     },
     "execution_count": 49,
     "metadata": {},
     "output_type": "execute_result"
    }
   ],
   "source": [
    "pd.crosstab(index=[df['departure'], df['airlines']],\n",
    "             columns=[df['arrival']],\n",
    "             rownames=['departure', 'airlines'],\n",
    "             colnames=['arrival'],\n",
    "             margins=True         # add subtotal\n",
    "            )"
   ]
  }
 ],
 "metadata": {
  "kernelspec": {
   "display_name": "Python 3",
   "language": "python",
   "name": "python3"
  },
  "language_info": {
   "codemirror_mode": {
    "name": "ipython",
    "version": 3
   },
   "file_extension": ".py",
   "mimetype": "text/x-python",
   "name": "python",
   "nbconvert_exporter": "python",
   "pygments_lexer": "ipython3",
   "version": "3.7.3"
  }
 },
 "nbformat": 4,
 "nbformat_minor": 2
}
